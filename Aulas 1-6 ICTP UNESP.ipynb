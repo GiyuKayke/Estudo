{
  "nbformat": 4,
  "nbformat_minor": 0,
  "metadata": {
    "colab": {
      "name": "Untitled3.ipynb",
      "provenance": [],
      "authorship_tag": "ABX9TyMmWXjONbroM8kPvFfLn2QI",
      "include_colab_link": true
    },
    "kernelspec": {
      "name": "python3",
      "display_name": "Python 3"
    },
    "language_info": {
      "name": "python"
    }
  },
  "cells": [
    {
      "cell_type": "markdown",
      "metadata": {
        "id": "view-in-github",
        "colab_type": "text"
      },
      "source": [
        "<a href=\"https://colab.research.google.com/github/GiyuKayke/Estudo/blob/main/Aulas%201-6%20ICTP%20UNESP.ipynb\" target=\"_parent\"><img src=\"https://colab.research.google.com/assets/colab-badge.svg\" alt=\"Open In Colab\"/></a>"
      ]
    },
    {
      "cell_type": "code",
      "source": [
        "s=0;\n",
        "def mult(x):\n",
        "  for i in x:\n",
        "    y=x*(s+1)\n",
        "    print(f\"valor de {x}X{s}={y}\")\n",
        "    return i;\n",
        "mult(8)"
      ],
      "metadata": {
        "id": "YZZzLB-uWoD2"
      },
      "execution_count": null,
      "outputs": []
    },
    {
      "cell_type": "code",
      "execution_count": null,
      "metadata": {
        "id": "BEjmIwi6IoRr"
      },
      "outputs": [],
      "source": [
        "print('1-SOMA| 2-MULT|3-DIVI');\n",
        "x= int(input(\"Qual opção vc escolhe: \"));\n",
        "\n",
        "if x==1:\n",
        "  print(\"OPERADOR MATE SOMA\");\n",
        "  valor1 = float(input(\"VALOR 1:\"));\n",
        "  valor2 = float(input(\"VALOR 2:\"));\n",
        "  vr= valor1+valor2;\n",
        "  print(f\"Valor: {vr}\");\n",
        "\n",
        "elif x==2:  \n",
        "  print(\"OPERADOR MATE DE MULT\");\n",
        "  valor1 = float(input(\"VALOR 1:\"));\n",
        "  valor2 = float(input(\"VALOR 2:\"));\n",
        "  vr= valor1*valor2;\n",
        "  print(f\"Valor: {vr}\");\n",
        "\n",
        "elif x==3:\n",
        "  print(\"OPERADOR MATE DE DIVI\");\n",
        "  valor1 = float(input(\"VALOR 1:\"));\n",
        "  valor2 = int(input(\"VALOR 2:\"));\n",
        "  vr= valor1/valor2;\n",
        "  print(f\"Valor: {vr}\");\n",
        "elif x==0 or x>3:\n",
        "  print(\"Escreva um numero correto\");\n",
        "\n"
      ]
    },
    {
      "cell_type": "code",
      "source": [
        "NOME=input(\" ESCREVA O NOME: \");\n",
        "d = float(input(\"ESCREVA A NOTA UM: \"));\n",
        "y = float(input(\"ESCREVA A NOTA DOIS: \"));\n",
        "media= (d+y)/2;\n",
        "listaDeNotas= [d,y];\n",
        "if media >= 6:\n",
        "  print(f\"o aluna(o) {NOME} foi aprovado com {media:.3} com a notas {listaDeNotas}\");\n",
        "elif media < 6:\n",
        "  print(f\"o aluna(o) {NOME} foi reprovado com {media:.3} com a notas {listaDeNotas}\");"
      ],
      "metadata": {
        "id": "EAfouA6VL1nH"
      },
      "execution_count": null,
      "outputs": []
    },
    {
      "cell_type": "code",
      "source": [
        "listaNotas = [4,4,4,4,4];\n",
        "soma =0;\n",
        "for nota in listaNotas:\n",
        "  soma = soma+nota;\n",
        "print(f'Média: {soma/len(listaNotas):.4}');"
      ],
      "metadata": {
        "id": "f0XxgPzhI4LR"
      },
      "execution_count": null,
      "outputs": []
    }
  ]
}